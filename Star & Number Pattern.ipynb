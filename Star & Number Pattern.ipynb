{
 "cells": [
  {
   "cell_type": "code",
   "execution_count": 1,
   "id": "3a374f30",
   "metadata": {},
   "outputs": [],
   "source": [
    "## Write a program to print the following star pattern\n"
   ]
  },
  {
   "cell_type": "code",
   "execution_count": 3,
   "id": "7aee2e10",
   "metadata": {},
   "outputs": [
    {
     "name": "stdout",
     "output_type": "stream",
     "text": [
      "****\n",
      "*****\n"
     ]
    }
   ],
   "source": [
    "for i in range(4,5+1):\n",
    "    print(\"*\"*i)\n",
    "  "
   ]
  },
  {
   "cell_type": "code",
   "execution_count": 2,
   "id": "a6167104",
   "metadata": {},
   "outputs": [
    {
     "name": "stdout",
     "output_type": "stream",
     "text": [
      "\n",
      "*\n",
      "**\n",
      "***\n"
     ]
    }
   ],
   "source": [
    "n = 4\n",
    "for i in range(4):\n",
    "    print(\"*\"*i)\n",
    "    "
   ]
  },
  {
   "cell_type": "code",
   "execution_count": 8,
   "id": "3e47068b",
   "metadata": {},
   "outputs": [
    {
     "name": "stdout",
     "output_type": "stream",
     "text": [
      "  *  \n",
      " *** \n",
      "*****\n"
     ]
    }
   ],
   "source": [
    "n = 3\n",
    "for i in range(3):\n",
    "    print(\" \"*(n-i-1),end=\"\")\n",
    "    print(\"*\"*(2*i+1),end=\"\")\n",
    "    print(\" \"*(n-i-1))"
   ]
  },
  {
   "cell_type": "code",
   "execution_count": 7,
   "id": "226f1b49",
   "metadata": {},
   "outputs": [
    {
     "name": "stdout",
     "output_type": "stream",
     "text": [
      "@\n",
      "@@\n",
      "@@@\n",
      "@@@@\n",
      "@@@@@\n"
     ]
    }
   ],
   "source": [
    "for i in range(1,5+1):\n",
    "    print(\"@\"*i)"
   ]
  },
  {
   "cell_type": "code",
   "execution_count": 8,
   "id": "a02f9ede",
   "metadata": {},
   "outputs": [
    {
     "name": "stdout",
     "output_type": "stream",
     "text": [
      "****\n",
      "***\n",
      "**\n",
      "*\n"
     ]
    }
   ],
   "source": [
    "for i in range(1,5):\n",
    "    print(\"*\"*(5-i))"
   ]
  },
  {
   "cell_type": "code",
   "execution_count": 13,
   "id": "8a6927c0",
   "metadata": {},
   "outputs": [
    {
     "name": "stdout",
     "output_type": "stream",
     "text": [
      " *** \n",
      "*   *\n",
      "*   *\n",
      "*****\n",
      "*   *\n",
      "*   *\n",
      "*   *\n"
     ]
    }
   ],
   "source": [
    "# PATTERN- A\n",
    "for i in range(7):\n",
    "    for j in range(5):\n",
    "        if ((j ==0 or j==4) and (i!=0)) or ((i ==0 or i==3) and (0<j<4)):\n",
    "            print(\"*\", end=\"\")\n",
    "        else:\n",
    "            print(end=\" \")\n",
    "    print()        "
   ]
  },
  {
   "cell_type": "code",
   "execution_count": 27,
   "id": "52f54f2b",
   "metadata": {},
   "outputs": [
    {
     "name": "stdout",
     "output_type": "stream",
     "text": [
      "****  \n",
      "*    *\n",
      "*    *\n",
      "****  \n",
      "*    *\n",
      "*    *\n",
      "****  \n"
     ]
    }
   ],
   "source": [
    "# PATTERN B\n",
    "for i in range(7):\n",
    "    for j in range(6):\n",
    "        \n",
    "        if (j ==0) or (j==5 and (i!=0 and i!=3 and i!=6))\\\n",
    "        or (i==0 or i==3 or i==6)\\\n",
    "        and (0<j<4):\n",
    "            print(\"*\", end=\"\")\n",
    "        else:\n",
    "            print(end=\" \")\n",
    "    print()        "
   ]
  },
  {
   "cell_type": "code",
   "execution_count": 36,
   "id": "affc27d1",
   "metadata": {},
   "outputs": [
    {
     "name": "stdout",
     "output_type": "stream",
     "text": [
      "    * \n",
      "   * * \n",
      "  * * * \n",
      " * * * * \n",
      "* * * * * \n",
      " * * * * \n",
      "  * * * \n",
      "   * * \n",
      "    * \n",
      "\n"
     ]
    }
   ],
   "source": [
    "for i in range(5):\n",
    "    print(' '*(5-i-1)+'* '*(i+1))\n",
    "for j in range(5-1,0,-1):\n",
    "    print(' '*(5-j)+'* '*(j))\n",
    "print()    "
   ]
  },
  {
   "cell_type": "code",
   "execution_count": 34,
   "id": "82ed898b",
   "metadata": {},
   "outputs": [
    {
     "name": "stdout",
     "output_type": "stream",
     "text": [
      "  *  \n",
      " * * \n",
      "*   *\n",
      " * * \n",
      "  *  \n"
     ]
    }
   ],
   "source": [
    "for i in range(5):\n",
    "    for j in range(5):\n",
    "        if i+j==2 or i-j==2 or i+j==6 or j-i==2:\n",
    "            print(\"*\",end=\"\")\n",
    "        else:\n",
    "            print(end=\" \")\n",
    "    print()        "
   ]
  },
  {
   "cell_type": "markdown",
   "id": "5e65f2ed",
   "metadata": {},
   "source": [
    "# Number Pattern"
   ]
  },
  {
   "cell_type": "code",
   "execution_count": 33,
   "id": "97d94e44",
   "metadata": {},
   "outputs": [
    {
     "name": "stdout",
     "output_type": "stream",
     "text": [
      "1 \r\n",
      "2 2 \r\n",
      "3 3 3 \r\n",
      "4 4 4 4 \r\n",
      "5 5 5 5 5 \r\n",
      "\n"
     ]
    }
   ],
   "source": [
    "def pattern(n):\n",
    "    x = 0\n",
    "    for i in range(0,n):\n",
    "        x+=1\n",
    "        for j in range(0,i+1):\n",
    "            print(x, end=\" \")\n",
    "        print(\"\\r\")\n",
    "pattern(5)\n",
    "print()"
   ]
  },
  {
   "cell_type": "code",
   "execution_count": 41,
   "id": "16a2f738",
   "metadata": {},
   "outputs": [
    {
     "name": "stdout",
     "output_type": "stream",
     "text": [
      "    1 \r\n",
      "   2 2 \r\n",
      "  3 3 3 \r\n",
      " 4 4 4 4 \r\n",
      "  3 3 3 \r\n",
      "   2 2 \r\n",
      "    1 \r\n"
     ]
    }
   ],
   "source": [
    "def pattern(n):\n",
    "    k = 2 * n-2\n",
    "    x = 0\n",
    "    for i in range(0,n):\n",
    "        x+=1\n",
    "        for j in range(0,k):\n",
    "            print(end=\" \")\n",
    "        k = k-1\n",
    "        for j in range(0, i +1):\n",
    "            print(x, end=\" \")\n",
    "        print(\"\\r\")\n",
    "    k = n -2\n",
    "    x = x + 2\n",
    "    for i in range(n, -1, -1):\n",
    "        x -= 1\n",
    "        for j in range(k, 0, -1):\n",
    "            print(end=\" \")\n",
    "        k = k + 1\n",
    "        for j in range(0, i + 1):\n",
    "            print(x, end=\" \")\n",
    "        print(\"\\r\")\n",
    "pattern(3)"
   ]
  },
  {
   "cell_type": "code",
   "execution_count": null,
   "id": "607059e9",
   "metadata": {},
   "outputs": [],
   "source": []
  }
 ],
 "metadata": {
  "kernelspec": {
   "display_name": "Python 3 (ipykernel)",
   "language": "python",
   "name": "python3"
  },
  "language_info": {
   "codemirror_mode": {
    "name": "ipython",
    "version": 3
   },
   "file_extension": ".py",
   "mimetype": "text/x-python",
   "name": "python",
   "nbconvert_exporter": "python",
   "pygments_lexer": "ipython3",
   "version": "3.10.3"
  }
 },
 "nbformat": 4,
 "nbformat_minor": 5
}
